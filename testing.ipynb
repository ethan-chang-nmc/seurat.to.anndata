{
 "cells": [
  {
   "cell_type": "code",
   "execution_count": null,
   "id": "9a62df5e",
   "metadata": {},
   "outputs": [],
   "source": [
    "import my_anndata\n",
    "\n",
    "# if file you have converted does not show up, find the file and manually add the .h5ad at the end of the file name\n",
    "adata = my_anndata.load()"
   ]
  },
  {
   "cell_type": "code",
   "execution_count": null,
   "id": "b5b917cf",
   "metadata": {},
   "outputs": [],
   "source": [
    "my_anndata.plot(adata)"
   ]
  },
  {
   "cell_type": "code",
   "execution_count": null,
   "id": "04430677",
   "metadata": {},
   "outputs": [],
   "source": [
    "import sys\n",
    "\n",
    "%pip install -q git+https://github.com/theislab/cellrank"
   ]
  },
  {
   "cell_type": "code",
   "execution_count": null,
   "id": "294c6bb8",
   "metadata": {},
   "outputs": [],
   "source": [
    "import cellrank as cr\n",
    "import scanpy as sc\n",
    "\n",
    "sc.settings.set_figure_params(frameon=False, dpi=100)\n",
    "cr.settings.verbosity = 2"
   ]
  },
  {
   "cell_type": "code",
   "execution_count": null,
   "id": "6a060e9d",
   "metadata": {},
   "outputs": [],
   "source": [
    "sc.pp.filter_genes(adata, min_cells=10)\n",
    "sc.pp.normalize_total(adata)\n",
    "sc.pp.log1p(adata)\n",
    "sc.pp.highly_variable_genes(adata)"
   ]
  },
  {
   "cell_type": "code",
   "execution_count": null,
   "id": "446da784",
   "metadata": {},
   "outputs": [],
   "source": [
    "import scvelo as scv\n",
    "\n",
    "if 'spliced' not in adata.layers or 'unspliced' not in adata.layers:\n",
    "    adata.layers['spliced'] = adata.X\n",
    "    adata.layers['unspliced'] = adata.X\n",
    "scv.pp.moments(adata)\n",
    "\n",
    "ctk = cr.kernels.CytoTRACEKernel(adata)\n",
    "ckt = ctk.compute_cytotrace().compute_transition_matrix()"
   ]
  },
  {
   "cell_type": "code",
   "execution_count": null,
   "id": "b1a03560",
   "metadata": {},
   "outputs": [],
   "source": [
    "adata"
   ]
  },
  {
   "cell_type": "code",
   "execution_count": null,
   "id": "9742a1c0",
   "metadata": {},
   "outputs": [],
   "source": [
    "from cellrank.estimators import GPCCA\n",
    "\n",
    "g = GPCCA(ckt)\n",
    "print(g)"
   ]
  },
  {
   "cell_type": "code",
   "execution_count": null,
   "id": "b9d4cb66",
   "metadata": {},
   "outputs": [],
   "source": [
    "g.fit(n_states=10, cluster_key=\"clusters\")\n",
    "g.plot_macrostates(which=\"all\")"
   ]
  },
  {
   "cell_type": "code",
   "execution_count": null,
   "id": "0ed73734",
   "metadata": {},
   "outputs": [],
   "source": [
    "\n",
    "g.compute_fate_probabilities()\n",
    "g.plot_fate_probabilities(legend_loc=\"right\")"
   ]
  },
  {
   "cell_type": "code",
   "execution_count": null,
   "id": "0c6aa20b",
   "metadata": {},
   "outputs": [],
   "source": [
    "\n",
    "model = cr.models.GAMR(adata)"
   ]
  },
  {
   "cell_type": "code",
   "execution_count": null,
   "id": "4047bfb1",
   "metadata": {},
   "outputs": [],
   "source": [
    "my_anndata.plot(adata)"
   ]
  }
 ],
 "metadata": {
  "kernelspec": {
   "display_name": "s_to_a",
   "language": "python",
   "name": "python3"
  },
  "language_info": {
   "codemirror_mode": {
    "name": "ipython",
    "version": 3
   },
   "file_extension": ".py",
   "mimetype": "text/x-python",
   "name": "python",
   "nbconvert_exporter": "python",
   "pygments_lexer": "ipython3",
   "version": "3.12.7"
  }
 },
 "nbformat": 4,
 "nbformat_minor": 5
}
